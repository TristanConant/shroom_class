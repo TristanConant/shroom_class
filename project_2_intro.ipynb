{
  "nbformat": 4,
  "nbformat_minor": 0,
  "metadata": {
    "colab": {
      "provenance": [],
      "authorship_tag": "ABX9TyPY+0Xnh/EXSp7vOOZhphVK",
      "include_colab_link": true
    },
    "kernelspec": {
      "name": "python3",
      "display_name": "Python 3"
    },
    "language_info": {
      "name": "python"
    }
  },
  "cells": [
    {
      "cell_type": "markdown",
      "metadata": {
        "id": "view-in-github",
        "colab_type": "text"
      },
      "source": [
        "<a href=\"https://colab.research.google.com/github/TristanConant/shroom_class/blob/init/project_2_intro.ipynb\" target=\"_parent\"><img src=\"https://colab.research.google.com/assets/colab-badge.svg\" alt=\"Open In Colab\"/></a>"
      ]
    },
    {
      "cell_type": "code",
      "execution_count": 2,
      "metadata": {
        "id": "rM6MTjy_DbBr"
      },
      "outputs": [],
      "source": [
        "import pandas as pd"
      ]
    },
    {
      "cell_type": "code",
      "source": [
        "file_url = 'https://docs.google.com/spreadsheets/d/e/2PACX-1vQ94PFNlOYMndbOU8lOH9YTaPKyngt0V2KDC47hQnGm9fvdbtXa3OXhu3AKnDzzBYEQlSw2UxS7Q7XI/pub?output=csv'\n",
        "df = pd.read_csv(file_url, header=None)\n",
        "df.columns = ['edible', 'cap-shape', 'cap-surface', 'cap-color', 'bruises', 'odor', 'gill-attachment', 'gill-spacing', 'gill-size', 'gill-color', 'stalk-shape', 'stalk-root', 'stalk-surface-above-ring', 'stalk-surface-below-ring', 'stalk-color-above-ring', 'stalk-color-below-ring', 'veil-type', 'veil-color', 'ring-number', 'ring-type', 'spore-print-color', 'population', 'habitat']\n",
        "df.info()"
      ],
      "metadata": {
        "colab": {
          "base_uri": "https://localhost:8080/"
        },
        "id": "8NvTrm3woXrK",
        "outputId": "7211debb-5e0d-42ba-e1ef-83f305a54174"
      },
      "execution_count": 6,
      "outputs": [
        {
          "output_type": "stream",
          "name": "stdout",
          "text": [
            "<class 'pandas.core.frame.DataFrame'>\n",
            "RangeIndex: 8124 entries, 0 to 8123\n",
            "Data columns (total 23 columns):\n",
            " #   Column                    Non-Null Count  Dtype \n",
            "---  ------                    --------------  ----- \n",
            " 0   edible                    8124 non-null   object\n",
            " 1   cap-shape                 8124 non-null   object\n",
            " 2   cap-surface               8124 non-null   object\n",
            " 3   cap-color                 8124 non-null   object\n",
            " 4   bruises                   8124 non-null   object\n",
            " 5   odor                      8124 non-null   object\n",
            " 6   gill-attachment           8124 non-null   object\n",
            " 7   gill-spacing              8124 non-null   object\n",
            " 8   gill-size                 8124 non-null   object\n",
            " 9   gill-color                8124 non-null   object\n",
            " 10  stalk-shape               8124 non-null   object\n",
            " 11  stalk-root                8124 non-null   object\n",
            " 12  stalk-surface-above-ring  8124 non-null   object\n",
            " 13  stalk-surface-below-ring  8124 non-null   object\n",
            " 14  stalk-color-above-ring    8124 non-null   object\n",
            " 15  stalk-color-below-ring    8124 non-null   object\n",
            " 16  veil-type                 8124 non-null   object\n",
            " 17  veil-color                8124 non-null   object\n",
            " 18  ring-number               8124 non-null   object\n",
            " 19  ring-type                 8124 non-null   object\n",
            " 20  spore-print-color         8124 non-null   object\n",
            " 21  population                8124 non-null   object\n",
            " 22  habitat                   8124 non-null   object\n",
            "dtypes: object(23)\n",
            "memory usage: 1.4+ MB\n"
          ]
        }
      ]
    },
    {
      "cell_type": "markdown",
      "source": [
        "1) Source of data<br>\n",
        "[Data source](https://archive-beta.ics.uci.edu/ml/datasets/mushroom#Descriptive)<br>\n",
        "2) Brief description of data<br>\n",
        "Mushrooms described in terms of physical characteristics.<br>\n",
        "3) What is the target?<br>\n",
        "poisonous or edible<br>\n",
        "4) Is this a classification or regression problem?<br>\n",
        "classification<br>\n",
        "5) How many features?<br>\n",
        "22<br>\n",
        "6) How many rows of data.<br>\n",
        "8123<br>\n",
        "7) What, if any, challenges do your foresee in cleaning, exploring, or modeling with this dataset?<br>\n",
        "I believe I might have some trouble with missing data."
      ],
      "metadata": {
        "id": "LYysb1q2rPZ4"
      }
    },
    {
      "cell_type": "code",
      "source": [
        "file_url = 'https://docs.google.com/spreadsheets/d/e/2PACX-1vT1Jag_dcBqT63ebPFDnrsznyatSXKEc2RdDmqkgutwMQ-TJe2JVBNXPwL4-3QTo_70FJ3TBz62DCTC/pub?output=csv'\n",
        "df = pd.read_csv(file_url, header=None)\n",
        "df.columns = ['erythema', 'scaling', 'definite borders', 'itching', 'koebner phenomenon', 'polygonal papules', 'follicular papules', 'oral mucosal involvement', 'knee and elbow involvement', 'scalp involvement', 'family history, (0 or 1)', 'Age (linear)', 'melanin incontinence', 'eosinophils in the infiltrate', 'PNL infiltrate', 'fibrosis of the papillary dermis', 'exocytosis', 'acanthosis', 'hyperkeratosis', 'parakeratosis', 'clubbing of the rete ridges', 'elongation of the rete ridges', 'thinning of the suprapapillary epidermis', 'spongiform pustule', 'munro microabcess', 'focal hypergranulosis', 'disappearance of the granular layer', 'vacuolisation and damage of basal layer', 'spongiosis', 'saw-tooth appearance of retes', 'follicular horn plug', 'perifollicular parakeratosis', 'Clinical Attributes', 'inflammatory monoluclear inflitrate', 'band-like infiltrate']\n",
        "df.info()"
      ],
      "metadata": {
        "colab": {
          "base_uri": "https://localhost:8080/"
        },
        "outputId": "4e88e45b-689f-478d-bf5a-a896b8b5b065",
        "id": "WlfHWnCasxrs"
      },
      "execution_count": 8,
      "outputs": [
        {
          "output_type": "stream",
          "name": "stdout",
          "text": [
            "<class 'pandas.core.frame.DataFrame'>\n",
            "RangeIndex: 366 entries, 0 to 365\n",
            "Data columns (total 35 columns):\n",
            " #   Column                                    Non-Null Count  Dtype \n",
            "---  ------                                    --------------  ----- \n",
            " 0   erythema                                  366 non-null    int64 \n",
            " 1   scaling                                   366 non-null    int64 \n",
            " 2   definite borders                          366 non-null    int64 \n",
            " 3   itching                                   366 non-null    int64 \n",
            " 4   koebner phenomenon                        366 non-null    int64 \n",
            " 5   polygonal papules                         366 non-null    int64 \n",
            " 6   follicular papules                        366 non-null    int64 \n",
            " 7   oral mucosal involvement                  366 non-null    int64 \n",
            " 8   knee and elbow involvement                366 non-null    int64 \n",
            " 9   scalp involvement                         366 non-null    int64 \n",
            " 10  family history, (0 or 1)                  366 non-null    int64 \n",
            " 11  Age (linear)                              366 non-null    int64 \n",
            " 12  melanin incontinence                      366 non-null    int64 \n",
            " 13  eosinophils in the infiltrate             366 non-null    int64 \n",
            " 14  PNL infiltrate                            366 non-null    int64 \n",
            " 15  fibrosis of the papillary dermis          366 non-null    int64 \n",
            " 16  exocytosis                                366 non-null    int64 \n",
            " 17  acanthosis                                366 non-null    int64 \n",
            " 18  hyperkeratosis                            366 non-null    int64 \n",
            " 19  parakeratosis                             366 non-null    int64 \n",
            " 20  clubbing of the rete ridges               366 non-null    int64 \n",
            " 21  elongation of the rete ridges             366 non-null    int64 \n",
            " 22  thinning of the suprapapillary epidermis  366 non-null    int64 \n",
            " 23  spongiform pustule                        366 non-null    int64 \n",
            " 24  munro microabcess                         366 non-null    int64 \n",
            " 25  focal hypergranulosis                     366 non-null    int64 \n",
            " 26  disappearance of the granular layer       366 non-null    int64 \n",
            " 27  vacuolisation and damage of basal layer   366 non-null    int64 \n",
            " 28  spongiosis                                366 non-null    int64 \n",
            " 29  saw-tooth appearance of retes             366 non-null    int64 \n",
            " 30  follicular horn plug                      366 non-null    int64 \n",
            " 31  perifollicular parakeratosis              366 non-null    int64 \n",
            " 32  Clinical Attributes                       366 non-null    int64 \n",
            " 33  inflammatory monoluclear inflitrate       366 non-null    object\n",
            " 34  band-like infiltrate                      366 non-null    int64 \n",
            "dtypes: int64(34), object(1)\n",
            "memory usage: 100.2+ KB\n"
          ]
        }
      ]
    },
    {
      "cell_type": "markdown",
      "source": [
        "1) Source of data<br>\n",
        "[Data source](https://archive-beta.ics.uci.edu/ml/datasets/dermatology#Descriptive)<br>\n",
        "2) Brief description of data<br>\n",
        "This dataset is to determine the type of Eryhemato-Squamous Disease.<br>\n",
        "3) What is the target?<br>\n",
        "Diagnosis of erythemato-squamous diseases<br>\n",
        "4) Is this a classification or regression problem?<br>\n",
        "classification<br>\n",
        "5) How many features?<br>\n",
        "34<br>\n",
        "6) How many rows of data.<br>\n",
        "366<br>\n",
        "7) What, if any, challenges do your foresee in cleaning, exploring, or modeling with this dataset?<br>\n",
        "Eliminating unnecessary columns."
      ],
      "metadata": {
        "id": "SZJ2091osxr2"
      }
    }
  ]
}